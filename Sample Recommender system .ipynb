{
 "cells": [
  {
   "cell_type": "code",
   "execution_count": 1,
   "metadata": {},
   "outputs": [],
   "source": [
    "import pandas as pd\n",
    "import numpy as np\n",
    "import matplotlib.pyplot as plt\n",
    "import seaborn as sns\n",
    "%matplotlib inline \n",
    "\n",
    "#Display all the columns in a dataframe\n",
    "pd.pandas.set_option('display.max_columns', None)"
   ]
  },
  {
   "cell_type": "code",
   "execution_count": 2,
   "metadata": {
    "scrolled": true
   },
   "outputs": [
    {
     "name": "stdout",
     "output_type": "stream",
     "text": [
      "(36987, 7)\n"
     ]
    },
    {
     "data": {
      "text/html": [
       "<div>\n",
       "<style scoped>\n",
       "    .dataframe tbody tr th:only-of-type {\n",
       "        vertical-align: middle;\n",
       "    }\n",
       "\n",
       "    .dataframe tbody tr th {\n",
       "        vertical-align: top;\n",
       "    }\n",
       "\n",
       "    .dataframe thead th {\n",
       "        text-align: right;\n",
       "    }\n",
       "</style>\n",
       "<table border=\"1\" class=\"dataframe\">\n",
       "  <thead>\n",
       "    <tr style=\"text-align: right;\">\n",
       "      <th></th>\n",
       "      <th>director_name</th>\n",
       "      <th>actor_1_name</th>\n",
       "      <th>actor_2_name</th>\n",
       "      <th>actor_3_name</th>\n",
       "      <th>genres</th>\n",
       "      <th>movie_title</th>\n",
       "      <th>comb</th>\n",
       "    </tr>\n",
       "  </thead>\n",
       "  <tbody>\n",
       "    <tr>\n",
       "      <th>0</th>\n",
       "      <td>John Lasseter</td>\n",
       "      <td>Tom Hanks</td>\n",
       "      <td>Tim Allen</td>\n",
       "      <td>Don Rickles</td>\n",
       "      <td>Animation Comedy Family</td>\n",
       "      <td>toy story</td>\n",
       "      <td>Tom Hanks Tim Allen Don Rickles John Lasseter ...</td>\n",
       "    </tr>\n",
       "    <tr>\n",
       "      <th>1</th>\n",
       "      <td>Joe Johnston</td>\n",
       "      <td>Robin Williams</td>\n",
       "      <td>Jonathan Hyde</td>\n",
       "      <td>Kirsten Dunst</td>\n",
       "      <td>Adventure Fantasy Family</td>\n",
       "      <td>jumanji</td>\n",
       "      <td>Robin Williams Jonathan Hyde Kirsten Dunst Joe...</td>\n",
       "    </tr>\n",
       "    <tr>\n",
       "      <th>2</th>\n",
       "      <td>Howard Deutch</td>\n",
       "      <td>Walter Matthau</td>\n",
       "      <td>Jack Lemmon</td>\n",
       "      <td>Ann-Margret</td>\n",
       "      <td>Romance Comedy</td>\n",
       "      <td>grumpier old men</td>\n",
       "      <td>Walter Matthau Jack Lemmon Ann-Margret Howard ...</td>\n",
       "    </tr>\n",
       "    <tr>\n",
       "      <th>3</th>\n",
       "      <td>Forest Whitaker</td>\n",
       "      <td>Whitney Houston</td>\n",
       "      <td>Angela Bassett</td>\n",
       "      <td>Loretta Devine</td>\n",
       "      <td>Comedy Drama Romance</td>\n",
       "      <td>waiting to exhale</td>\n",
       "      <td>Whitney Houston Angela Bassett Loretta Devine ...</td>\n",
       "    </tr>\n",
       "    <tr>\n",
       "      <th>4</th>\n",
       "      <td>Charles Shyer</td>\n",
       "      <td>Steve Martin</td>\n",
       "      <td>Diane Keaton</td>\n",
       "      <td>Martin Short</td>\n",
       "      <td>Comedy</td>\n",
       "      <td>father of the bride part ii</td>\n",
       "      <td>Steve Martin Diane Keaton Martin Short Charles...</td>\n",
       "    </tr>\n",
       "  </tbody>\n",
       "</table>\n",
       "</div>"
      ],
      "text/plain": [
       "     director_name     actor_1_name    actor_2_name    actor_3_name  \\\n",
       "0    John Lasseter        Tom Hanks       Tim Allen     Don Rickles   \n",
       "1     Joe Johnston   Robin Williams   Jonathan Hyde   Kirsten Dunst   \n",
       "2    Howard Deutch   Walter Matthau     Jack Lemmon     Ann-Margret   \n",
       "3  Forest Whitaker  Whitney Houston  Angela Bassett  Loretta Devine   \n",
       "4    Charles Shyer     Steve Martin    Diane Keaton    Martin Short   \n",
       "\n",
       "                     genres                  movie_title  \\\n",
       "0   Animation Comedy Family                    toy story   \n",
       "1  Adventure Fantasy Family                      jumanji   \n",
       "2            Romance Comedy             grumpier old men   \n",
       "3      Comedy Drama Romance            waiting to exhale   \n",
       "4                    Comedy  father of the bride part ii   \n",
       "\n",
       "                                                comb  \n",
       "0  Tom Hanks Tim Allen Don Rickles John Lasseter ...  \n",
       "1  Robin Williams Jonathan Hyde Kirsten Dunst Joe...  \n",
       "2  Walter Matthau Jack Lemmon Ann-Margret Howard ...  \n",
       "3  Whitney Houston Angela Bassett Loretta Devine ...  \n",
       "4  Steve Martin Diane Keaton Martin Short Charles...  "
      ]
     },
     "execution_count": 2,
     "metadata": {},
     "output_type": "execute_result"
    }
   ],
   "source": [
    "data = pd.read_csv('main_data.csv')\n",
    "print(data.shape)\n",
    "data.head()"
   ]
  },
  {
   "cell_type": "code",
   "execution_count": 3,
   "metadata": {},
   "outputs": [
    {
     "data": {
      "text/plain": [
       "director_name    0\n",
       "actor_1_name     0\n",
       "actor_2_name     0\n",
       "actor_3_name     0\n",
       "genres           0\n",
       "movie_title      0\n",
       "comb             0\n",
       "dtype: int64"
      ]
     },
     "execution_count": 3,
     "metadata": {},
     "output_type": "execute_result"
    }
   ],
   "source": [
    "# Checking any missing Values \n",
    "data.isnull().sum()"
   ]
  },
  {
   "cell_type": "code",
   "execution_count": 4,
   "metadata": {},
   "outputs": [],
   "source": [
    "# Here we are using Cosine_similarity for our recommender systems \n",
    "from sklearn.feature_extraction.text import CountVectorizer\n",
    "from sklearn.metrics.pairwise import cosine_similarity"
   ]
  },
  {
   "cell_type": "code",
   "execution_count": 5,
   "metadata": {},
   "outputs": [],
   "source": [
    "# Feeding comb column strings into countvectorizer\n",
    "cv = CountVectorizer()"
   ]
  },
  {
   "cell_type": "code",
   "execution_count": 6,
   "metadata": {},
   "outputs": [],
   "source": [
    "count_matrix = cv.fit_transform(data['comb'])"
   ]
  },
  {
   "cell_type": "code",
   "execution_count": 7,
   "metadata": {},
   "outputs": [],
   "source": [
    "# Getting Cosine Similarity Matrix from the count matrix\n",
    "cosine_sim = cosine_similarity(count_matrix)"
   ]
  },
  {
   "cell_type": "code",
   "execution_count": 8,
   "metadata": {},
   "outputs": [],
   "source": [
    "# Defining two helper functions to get movie title from movie index and vice-versa.\n",
    "def get_title_from_index(index):\n",
    "    return data[data.index == index][\"movie_title\"].values[0]\n",
    "def get_index_from_title(title):\n",
    "    return data[data.movie_title == title].index.values[0]"
   ]
  },
  {
   "cell_type": "code",
   "execution_count": 20,
   "metadata": {},
   "outputs": [
    {
     "name": "stdout",
     "output_type": "stream",
     "text": [
      "Enter the Movie Name : jumanji\n"
     ]
    }
   ],
   "source": [
    "try:\n",
    "    movie_user_likes = input('Enter the Movie Name : ')\n",
    "    movie_index = get_index_from_title(movie_user_likes)\n",
    "except:\n",
    "    print(\"Movie Name is not in our Database \")\n"
   ]
  },
  {
   "cell_type": "code",
   "execution_count": 21,
   "metadata": {},
   "outputs": [],
   "source": [
    "similar_movies = list(enumerate(cosine_sim[movie_index]))"
   ]
  },
  {
   "cell_type": "code",
   "execution_count": 22,
   "metadata": {},
   "outputs": [],
   "source": [
    "sorted_similar_movies = sorted(similar_movies,key=lambda x:x[1],reverse=True)[1:]"
   ]
  },
  {
   "cell_type": "code",
   "execution_count": 25,
   "metadata": {},
   "outputs": [
    {
     "name": "stdout",
     "output_type": "stream",
     "text": [
      "Top 10 similar movies to jumanji are:\n",
      "\n",
      "hook\n",
      "the nutcracker and the four realms\n",
      "small soldiers\n",
      "aladdin and the king of thieves\n",
      "spider-man 2\n",
      "spider-man 3\n",
      "the adventurer: the curse of the midas box\n",
      "pan\n",
      "the neverending story ii: the next chapter\n",
      "captain sindbad\n",
      "jason and the argonauts\n"
     ]
    }
   ],
   "source": [
    "i=0\n",
    "print(\"Top 10 similar movies to \"+movie_user_likes+\" are:\\n\")\n",
    "for element in sorted_similar_movies:\n",
    "    print(get_title_from_index(element[0]))\n",
    "    i=i+1\n",
    "    if i>10:\n",
    "        break"
   ]
  },
  {
   "cell_type": "code",
   "execution_count": null,
   "metadata": {},
   "outputs": [],
   "source": []
  }
 ],
 "metadata": {
  "kernelspec": {
   "display_name": "Python 3",
   "language": "python",
   "name": "python3"
  },
  "language_info": {
   "codemirror_mode": {
    "name": "ipython",
    "version": 3
   },
   "file_extension": ".py",
   "mimetype": "text/x-python",
   "name": "python",
   "nbconvert_exporter": "python",
   "pygments_lexer": "ipython3",
   "version": "3.8.3"
  }
 },
 "nbformat": 4,
 "nbformat_minor": 4
}
